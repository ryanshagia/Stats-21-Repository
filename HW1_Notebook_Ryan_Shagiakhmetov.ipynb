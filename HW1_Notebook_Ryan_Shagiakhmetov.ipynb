{
 "cells": [
  {
   "cell_type": "markdown",
   "metadata": {},
   "source": [
    "# Stats 21: Homework 1\n",
    "\n",
    "## Ryan Shagiakhmetov\n",
    "\n",
    "Acknowledgements: several of these problems are copied from or modified from Think Python by Allen Downey.\n",
    "\n",
    "I've started the homework file for you. You'll need to fill in the rest with your answers.\n",
    "My encouragement is to use the keyboard shortcuts as much as possible and use the mouse as little as possible while working the Jupyter Notebook.\n",
    "\n",
    "After you complete the homework with your answers, go to the menu and choose **Kernel > Restart & Run All.** Review the document to **make sure all requested output is visible**. You will not get credit for problems where the requested output is not visible, even if the function you coded is correct.\n",
    "\n",
    "When you are satisfied with the output, choose File > Download As ... > PDF or  HTML. If you choose to save as HTML, you'll then need to \"Print as PDF\". Submit the PDF to Gradescope.\n",
    "\n",
    "Submit this ipynb file, complete with your answers and output to Canvas / Bruin Learn.\n",
    "\n",
    "**Again, you must make sure all requested output is visible to receive full credit.**"
   ]
  },
  {
   "cell_type": "markdown",
   "metadata": {},
   "source": [
    "# Task 1"
   ]
  },
  {
   "cell_type": "markdown",
   "metadata": {},
   "source": [
    "Create an account on GitHub. \n",
    "\n",
    "Change your profile picture. Ideally, use photo of yourself that would be appropriate for a resume. If you are not comfortable with the idea of using a photo of yourself, use any other image that is suitable for a workplace environment.\n",
    "\n",
    "Follow the instructions provided in class to fork the class repository to your GitHub.\n",
    "\n",
    "Create another repository with at least two text files in it on GitHub (other than the forked class notes repository). Make at least two additional commits to the reposiotry and push them to GitHub.\n",
    "\n",
    "Provide a link to both repositories here.\n",
    "\n",
    "You will also need to submit the link to your own repository (not the forked one) to Canvas / Bruin Learn."
   ]
  },
  {
   "cell_type": "markdown",
   "metadata": {},
   "source": [
    "## Your Answer:\n",
    "\n",
    "- Link to your forked repository: https://github.com/ryanshagia/25-fall-stats-21\n",
    "- Link to your own repository: https://github.com/ryanshagia/Stats-21-Repository"
   ]
  },
  {
   "cell_type": "markdown",
   "metadata": {},
   "source": [
    "# Problem 2"
   ]
  },
  {
   "cell_type": "markdown",
   "metadata": {},
   "source": [
    "An important part of programming is learning to interpret error messages and understanding what correction needs to be made.\n",
    "\n",
    "Read and familiarize yourself with the following error messages.\n",
    "\n",
    "Explain the error. Then duplicate each cell and correct the error. The first problem has been done for you as an example."
   ]
  },
  {
   "cell_type": "code",
   "execution_count": null,
   "metadata": {
    "tags": [
     "raises-exception"
    ]
   },
   "outputs": [
    {
     "ename": "SyntaxError",
     "evalue": "unexpected EOF while parsing (<ipython-input-1-41ea49db4490>, line 2)",
     "output_type": "error",
     "traceback": [
      "\u001b[1;36m  File \u001b[1;32m\"<ipython-input-1-41ea49db4490>\"\u001b[1;36m, line \u001b[1;32m2\u001b[0m\n\u001b[1;33m    print(\"Hello World\"\u001b[0m\n\u001b[1;37m                       ^\u001b[0m\n\u001b[1;31mSyntaxError\u001b[0m\u001b[1;31m:\u001b[0m unexpected EOF while parsing\n"
     ]
    }
   ],
   "source": [
    "# A\n",
    "print(\"Hello World\""
   ]
  },
  {
   "cell_type": "markdown",
   "metadata": {},
   "source": [
    "Answer: The `print()` function is missing the closing parenthesis. This results in an unexpected EOF error."
   ]
  },
  {
   "cell_type": "code",
   "execution_count": 1,
   "metadata": {},
   "outputs": [
    {
     "name": "stdout",
     "output_type": "stream",
     "text": [
      "Hello World\n"
     ]
    }
   ],
   "source": [
    "# corrected:\n",
    "print(\"Hello World\")"
   ]
  },
  {
   "cell_type": "code",
   "execution_count": 2,
   "metadata": {},
   "outputs": [
    {
     "ename": "IndentationError",
     "evalue": "unexpected indent (66443029.py, line 3)",
     "output_type": "error",
     "traceback": [
      "  \u001b[36mCell\u001b[39m\u001b[36m \u001b[39m\u001b[32mIn[2]\u001b[39m\u001b[32m, line 3\u001b[39m\n\u001b[31m    \u001b[39m\u001b[31mprint(\"Goodbye\")\u001b[39m\n    ^\n\u001b[31mIndentationError\u001b[39m\u001b[31m:\u001b[39m unexpected indent\n"
     ]
    }
   ],
   "source": [
    "# B\n",
    "print(\"Hello\")\n",
    "    print(\"Goodbye\")"
   ]
  },
  {
   "cell_type": "markdown",
   "metadata": {},
   "source": [
    "Answer: The second 'print()' statement is indented unnecessarily, which causes an IndentationError: unexpected indent. Both lines should be aligned at the same indentation level."
   ]
  },
  {
   "cell_type": "code",
   "execution_count": 3,
   "metadata": {},
   "outputs": [
    {
     "name": "stdout",
     "output_type": "stream",
     "text": [
      "Hello\n",
      "Goodbye\n"
     ]
    }
   ],
   "source": [
    "# corrected:\n",
    "print(\"Hello\")\n",
    "print(\"Goodbye\")"
   ]
  },
  {
   "cell_type": "code",
   "execution_count": 8,
   "metadata": {
    "tags": [
     "raises-exception"
    ]
   },
   "outputs": [
    {
     "ename": "SyntaxError",
     "evalue": "expected ':' (4211757722.py, line 3)",
     "output_type": "error",
     "traceback": [
      "  \u001b[36mCell\u001b[39m\u001b[36m \u001b[39m\u001b[32mIn[8]\u001b[39m\u001b[32m, line 3\u001b[39m\n\u001b[31m    \u001b[39m\u001b[31mif x > 8\u001b[39m\n            ^\n\u001b[31mSyntaxError\u001b[39m\u001b[31m:\u001b[39m expected ':'\n"
     ]
    }
   ],
   "source": [
    "# C\n",
    "x = 10\n",
    "if x > 8\n",
    "    print(\"x is greater than 8\")"
   ]
  },
  {
   "cell_type": "markdown",
   "metadata": {},
   "source": [
    "Answer: The if statement is missing a colon ':' after the condition, causing a SyntaxError."
   ]
  },
  {
   "cell_type": "code",
   "execution_count": 9,
   "metadata": {},
   "outputs": [
    {
     "name": "stdout",
     "output_type": "stream",
     "text": [
      "x is greater than 8\n"
     ]
    }
   ],
   "source": [
    "# corrected:\n",
    "x = 10\n",
    "if x > 8:\n",
    "    print(\"x is greater than 8\")"
   ]
  },
  {
   "cell_type": "code",
   "execution_count": 10,
   "metadata": {
    "tags": [
     "raises-exception"
    ]
   },
   "outputs": [
    {
     "ename": "SyntaxError",
     "evalue": "invalid syntax. Maybe you meant '==' or ':=' instead of '='? (2686327292.py, line 2)",
     "output_type": "error",
     "traceback": [
      "  \u001b[36mCell\u001b[39m\u001b[36m \u001b[39m\u001b[32mIn[10]\u001b[39m\u001b[32m, line 2\u001b[39m\n\u001b[31m    \u001b[39m\u001b[31mif x = 10:\u001b[39m\n       ^\n\u001b[31mSyntaxError\u001b[39m\u001b[31m:\u001b[39m invalid syntax. Maybe you meant '==' or ':=' instead of '='?\n"
     ]
    }
   ],
   "source": [
    "# D\n",
    "if x = 10:\n",
    "    print(\"x is equal to 10\")"
   ]
  },
  {
   "cell_type": "markdown",
   "metadata": {},
   "source": [
    "Answer: The condition uses assignment '=' instead of comparison '==' causing a SyntaxError."
   ]
  },
  {
   "cell_type": "code",
   "execution_count": 11,
   "metadata": {},
   "outputs": [
    {
     "name": "stdout",
     "output_type": "stream",
     "text": [
      "x is equal to 10\n"
     ]
    }
   ],
   "source": [
    "# corrected:\n",
    "if x == 10:\n",
    "    print(\"x is equal to 10\")"
   ]
  },
  {
   "cell_type": "code",
   "execution_count": 6,
   "metadata": {
    "tags": [
     "raises-exception"
    ]
   },
   "outputs": [
    {
     "ename": "IndentationError",
     "evalue": "expected an indented block after 'if' statement on line 3 (2346592504.py, line 4)",
     "output_type": "error",
     "traceback": [
      "  \u001b[36mCell\u001b[39m\u001b[36m \u001b[39m\u001b[32mIn[6]\u001b[39m\u001b[32m, line 4\u001b[39m\n\u001b[31m    \u001b[39m\u001b[31mprint(\"x is five\")\u001b[39m\n    ^\n\u001b[31mIndentationError\u001b[39m\u001b[31m:\u001b[39m expected an indented block after 'if' statement on line 3\n"
     ]
    }
   ],
   "source": [
    "# E\n",
    "x = 5\n",
    "if x == 5:\n",
    "print(\"x is five\")"
   ]
  },
  {
   "cell_type": "markdown",
   "metadata": {},
   "source": [
    "Answer: The print() inside the if block is not indented, causing an IndentationError."
   ]
  },
  {
   "cell_type": "code",
   "execution_count": 12,
   "metadata": {},
   "outputs": [
    {
     "name": "stdout",
     "output_type": "stream",
     "text": [
      "x is five\n"
     ]
    }
   ],
   "source": [
    "# corrected:\n",
    "x = 5\n",
    "if x == 5:\n",
    "    print(\"x is five\")"
   ]
  },
  {
   "cell_type": "code",
   "execution_count": 13,
   "metadata": {
    "tags": [
     "raises-exception"
    ]
   },
   "outputs": [
    {
     "ename": "NameError",
     "evalue": "name 'sort' is not defined",
     "output_type": "error",
     "traceback": [
      "\u001b[31m---------------------------------------------------------------------------\u001b[39m",
      "\u001b[31mNameError\u001b[39m                                 Traceback (most recent call last)",
      "\u001b[36mCell\u001b[39m\u001b[36m \u001b[39m\u001b[32mIn[13]\u001b[39m\u001b[32m, line 3\u001b[39m\n\u001b[32m      1\u001b[39m \u001b[38;5;66;03m# F\u001b[39;00m\n\u001b[32m      2\u001b[39m l = [\u001b[32m1\u001b[39m, \u001b[32m2\u001b[39m, \u001b[32m50\u001b[39m, \u001b[32m10\u001b[39m]\n\u001b[32m----> \u001b[39m\u001b[32m3\u001b[39m l = \u001b[43msort\u001b[49m(l)\n",
      "\u001b[31mNameError\u001b[39m: name 'sort' is not defined"
     ]
    }
   ],
   "source": [
    "# F\n",
    "l = [1, 2, 50, 10]\n",
    "l = sort(l)"
   ]
  },
  {
   "cell_type": "markdown",
   "metadata": {},
   "source": [
    "Answer: The sort() is not a standalone built-in. Calling just sort(l) causes a NameError because sort is undefined."
   ]
  },
  {
   "cell_type": "code",
   "execution_count": 14,
   "metadata": {},
   "outputs": [
    {
     "name": "stdout",
     "output_type": "stream",
     "text": [
      "[1, 2, 10, 50]\n"
     ]
    }
   ],
   "source": [
    "#corrected:\n",
    "l = [1, 2, 50, 10]\n",
    "l.sort()\n",
    "print(l)"
   ]
  },
  {
   "cell_type": "markdown",
   "metadata": {},
   "source": [
    "# Problem 3"
   ]
  },
  {
   "cell_type": "markdown",
   "metadata": {},
   "source": [
    "Use Python as a calculator. Enter the appropriate calculation in a cell and be sure the output value is visible.\n",
    "\n",
    "A. How many seconds are there in 42 minutes 42 seconds?"
   ]
  },
  {
   "cell_type": "code",
   "execution_count": 18,
   "metadata": {},
   "outputs": [
    {
     "name": "stdout",
     "output_type": "stream",
     "text": [
      "2562 seconds\n"
     ]
    }
   ],
   "source": [
    "# A Calculation\n",
    "seconds = 42 * 60 + 42\n",
    "print(seconds, \"seconds\")"
   ]
  },
  {
   "cell_type": "markdown",
   "metadata": {},
   "source": [
    "B. There are 1.61 kilometers in a mile. How many miles are there in 10 kilometers?"
   ]
  },
  {
   "cell_type": "code",
   "execution_count": 19,
   "metadata": {},
   "outputs": [
    {
     "name": "stdout",
     "output_type": "stream",
     "text": [
      "6.211180124223602 miles\n"
     ]
    }
   ],
   "source": [
    "# B Calculation\n",
    "miles = 10 / 1.61\n",
    "print(miles, \"miles\")"
   ]
  },
  {
   "cell_type": "markdown",
   "metadata": {},
   "source": [
    "C. If you run a 10 kilometer race in 42 minutes 42 seconds, what is your average 1-mile pace (time to complete 1 mile in minutes and seconds)? What is your average speed in\n",
    "miles per hour?"
   ]
  },
  {
   "cell_type": "code",
   "execution_count": 22,
   "metadata": {},
   "outputs": [
    {
     "name": "stdout",
     "output_type": "stream",
     "text": [
      "Pace: 6 minutes 52 seconds per mile\n",
      "Speed: 8.73 miles per hour\n"
     ]
    }
   ],
   "source": [
    "# C Calculation\n",
    "\n",
    "# From part A\n",
    "total_seconds = 42 * 60 + 42\n",
    "\n",
    "# From part B\n",
    "miles = 10 / 1.61\n",
    "\n",
    "# Average speed in mph\n",
    "hours = total_seconds / 3600\n",
    "speed_mph = miles / hours\n",
    "\n",
    "# Pace (time to complete 1 mile)\n",
    "seconds_per_mile = total_seconds / miles\n",
    "minutes = int(seconds_per_mile // 60)\n",
    "seconds = int(seconds_per_mile % 60)\n",
    "\n",
    "print(\"Pace:\", minutes, \"minutes\", seconds, \"seconds per mile\")\n",
    "print(\"Speed:\", round(speed_mph, 2), \"miles per hour\")"
   ]
  },
  {
   "cell_type": "markdown",
   "metadata": {},
   "source": [
    "# Problem 4\n",
    "Write functions for the following problems."
   ]
  },
  {
   "cell_type": "markdown",
   "metadata": {},
   "source": [
    "A. The volume of a sphere with radius r is $$V = \\frac{4}{3}\\pi r^3$$\n",
    "\n",
    "Write a function `sphere_volume(r)` that will accept a radius as an argument and return the volume.\n",
    "\n",
    "- Use the function to ﬁnd the volume of a sphere with radius 5.\n",
    "- Use the function to ﬁnd the volume of a sphere with radius 15."
   ]
  },
  {
   "cell_type": "code",
   "execution_count": 23,
   "metadata": {},
   "outputs": [
    {
     "name": "stdout",
     "output_type": "stream",
     "text": [
      "Volume with radius 5: 523.5987755982989\n",
      "Volume with radius 3 113.09733552923254\n"
     ]
    }
   ],
   "source": [
    "# A Solution\n",
    "import math\n",
    "\n",
    "def sphere_volume(r):\n",
    "    volume = (4/3) * math.pi * r**3\n",
    "    return volume\n",
    "\n",
    "# Testing\n",
    "print(\"Volume with radius 5:\", sphere_volume(5))\n",
    "print(\"Volume with radius 3\", sphere_volume(3))"
   ]
  },
  {
   "cell_type": "markdown",
   "metadata": {},
   "source": [
    "B. Suppose the cover price of a book is \\\\$24.95, but bookstores get a 40\\% discount. Shipping costs \\\\$3 for the ﬁrst copy and 75 cents for each additional copy.\n",
    "\n",
    "Write a function `wholesale_cost(books)` that accepts an argument for the number of books and will return the total cost of the books plus shipping.\n",
    "\n",
    "- Use the function to ﬁnd the total wholesale cost for 60 copies.\n",
    "- Use the function to ﬁnd the total wholesale cost for 10 copies."
   ]
  },
  {
   "cell_type": "code",
   "execution_count": 27,
   "metadata": {},
   "outputs": [
    {
     "name": "stdout",
     "output_type": "stream",
     "text": [
      "Total wholesale cost for 60 copies: 945.45\n",
      "Total wholesale cost for 10 copies: 159.45\n"
     ]
    }
   ],
   "source": [
    "# B Solution\n",
    "def wholesale_cost(books):\n",
    "    cover_price = 24.95\n",
    "    discount = 0.40\n",
    "    discounted_price = cover_price * (1-discount)\n",
    "\n",
    "    if books >= 1:\n",
    "        shipping = 3 + 0.75 * (books - 1)\n",
    "    else:\n",
    "        shipping = 0\n",
    "\n",
    "    total_cost = books * discounted_price + shipping\n",
    "    return total_cost\n",
    "\n",
    "# Test\n",
    "print(\"Total wholesale cost for 60 copies:\", round(wholesale_cost(60), 2))\n",
    "print(\"Total wholesale cost for 10 copies:\", wholesale_cost(10))"
   ]
  },
  {
   "cell_type": "markdown",
   "metadata": {},
   "source": [
    "C. A person runs several miles. The ﬁrst and last miles are run at an 'easy' pace. Other than the ﬁrst and last miles, the other miles are at a faster pace.\n",
    "\n",
    "Write a function `run_time(miles, warm_pace, fast_pace)` to calculate the time the runner will take. The function accepts three input arguments: how many miles the runner travels (minimum value is 2), the warm-up and cool-down pace, the fast pace. The function will print the time in the format minutes:seconds, and will return a tuple of values: (minutes, seconds)\n",
    "\n",
    "Use the function to ﬁnd the time to run a total of 5 miles. The warm-up pace is 8:15 per mile. The speed pace is 7:12 per mile.\n",
    "\n",
    "Call the function using: `run_time(miles = 5, warm_pace = 495, fast_pace = 432)`"
   ]
  },
  {
   "cell_type": "code",
   "execution_count": 28,
   "metadata": {},
   "outputs": [
    {
     "name": "stdout",
     "output_type": "stream",
     "text": [
      "Total time: 38 minutes 6 seconds\n"
     ]
    },
    {
     "data": {
      "text/plain": [
       "(38, 6)"
      ]
     },
     "execution_count": 28,
     "metadata": {},
     "output_type": "execute_result"
    }
   ],
   "source": [
    "# C Solution\n",
    "def run_time(miles, warm_pace, fast_pace):\n",
    "    easy_miles = 2\n",
    "    fast_miles = miles - easy_miles\n",
    "\n",
    "    # Time in seconds\n",
    "    total_seconds = easy_miles * warm_pace + fast_miles * fast_pace\n",
    "\n",
    "    # Convert to minutes and seconds\n",
    "    minutes = total_seconds // 60\n",
    "    seconds = total_seconds % 60\n",
    "\n",
    "    print(\"Total time:\", int(minutes), \"minutes\", int(seconds), \"seconds\")\n",
    "    return int(minutes), int(seconds)\n",
    "\n",
    "run_time(miles = 5, warm_pace = 495, fast_pace = 432)"
   ]
  },
  {
   "cell_type": "markdown",
   "metadata": {},
   "source": [
    "Another important skill is to be able to read documentation.\n",
    "\n",
    "Read the documentation for the function str.split() at https://docs.python.org/3/library/stdtypes.html#str.split\n",
    "\n",
    "Adjust the function so that the call can be made with minutes and seconds:\n",
    "\n",
    "`run_time(miles = 5, warm_pace = \"8:15\", fast_pace = \"7:12\")`"
   ]
  },
  {
   "cell_type": "code",
   "execution_count": null,
   "metadata": {},
   "outputs": [
    {
     "name": "stdout",
     "output_type": "stream",
     "text": [
      "Total time: 38 minutes 6 seconds\n"
     ]
    },
    {
     "data": {
      "text/plain": [
       "(38, 6)"
      ]
     },
     "execution_count": 29,
     "metadata": {},
     "output_type": "execute_result"
    }
   ],
   "source": [
    "# C (updated version)\n",
    "def run_time(miles, warm_pace, fast_pace):\n",
    "    # Convert warm_pace from \"min:sec\"\n",
    "    warm_min, warm_sec = warm_pace.split(\":\")\n",
    "    warm_pace_sec = int(warm_min) * 60 + int(warm_sec)\n",
    "    \n",
    "    # Convert fast_pace from \"min:sec\"\n",
    "    fast_min, fast_sec = fast_pace.split(\":\")\n",
    "    fast_pace_sec = int(fast_min) * 60 + int(fast_sec)\n",
    "    \n",
    "    # First and last miles equal warm pace\n",
    "    easy_miles = 2\n",
    "    fast_miles = miles - easy_miles\n",
    "    \n",
    "    # Total time in seconds\n",
    "    total_seconds = easy_miles * warm_pace_sec + fast_miles * fast_pace_sec\n",
    "    \n",
    "    # Convert back into minutes and seconds\n",
    "    minutes = total_seconds // 60\n",
    "    seconds = total_seconds % 60\n",
    "    \n",
    "    print(\"Total time:\", minutes, \"minutes\", seconds, \"seconds\")\n",
    "    return minutes, seconds\n",
    "\n",
    "# Test\n",
    "run_time(miles=  5, warm_pace = \"8:15\", fast_pace = \"7:12\")\n"
   ]
  },
  {
   "cell_type": "markdown",
   "metadata": {},
   "source": [
    "# Problem 5\n",
    "\n",
    "Use `import math` to gain access to the math library.\n",
    "\n",
    "Create a function `polar(real, imaginary)` that will return the polar coordinates of a complex number.\n",
    "\n",
    "The input arguments are the real and imaginary components of a complex number. The function will return a tuple of values: the value of the radius `r` and the angle `theta`. \n",
    "\n",
    "For a refresher, see: https://ptolemy.berkeley.edu/eecs20/sidebars/complex/polar.html\n",
    "\n",
    "Show the results for the following complex numbers:\n",
    "\n",
    "- 1 + i\n",
    "- -2 - 3i\n",
    "- 4 + 2i"
   ]
  },
  {
   "cell_type": "code",
   "execution_count": 39,
   "metadata": {},
   "outputs": [
    {
     "name": "stdout",
     "output_type": "stream",
     "text": [
      "(1.41, 0.79)\n",
      "(3.61, -2.16)\n",
      "(4.47, 0.46)\n"
     ]
    }
   ],
   "source": [
    "import math\n",
    "\n",
    "def polar(real, imaginary):\n",
    "    r = math.sqrt(real**2 + imaginary**2)\n",
    "\n",
    "    theta = math.atan2(imaginary, real)\n",
    "    \n",
    "    return (round(r, 2), round(theta, 2)) \n",
    "\n",
    "# Test cases\n",
    "print(polar(1, 1))\n",
    "print(polar(-2, -3))\n",
    "print(polar(4, 2))"
   ]
  },
  {
   "cell_type": "markdown",
   "metadata": {},
   "source": [
    "# Problem 6"
   ]
  },
  {
   "cell_type": "markdown",
   "metadata": {},
   "source": [
    "Define a function called `insert_into(listname, index, iterable)`. It will accept three arguments, a currently existing list, an index, and another list/tuple that will be inserted at the index position.\n",
    "\n",
    "Python's built-in function, `list.insert()` can only insert one object."
   ]
  },
  {
   "cell_type": "code",
   "execution_count": 51,
   "metadata": {},
   "outputs": [],
   "source": [
    "# write your code here\n",
    "def insert_into(listname, index, iterable):\n",
    "    listname[index:index] = iterable\n",
    "    print(listname)"
   ]
  },
  {
   "cell_type": "code",
   "execution_count": 52,
   "metadata": {},
   "outputs": [
    {
     "name": "stdout",
     "output_type": "stream",
     "text": [
      "[0, 'a', 'b', 'hello', 'there', 'c', 4, 5, 6]\n"
     ]
    }
   ],
   "source": [
    "# do not modify. We will check this result for grading\n",
    "l = [0,'a','b','c',4,5,6]\n",
    "i = ['hello', 'there']\n",
    "insert_into(l, 3, i)"
   ]
  },
  {
   "cell_type": "markdown",
   "metadata": {},
   "source": [
    "# Problem 7\n",
    "\n",
    "Define a function called `first_equals_last(listname)`\n",
    "\n",
    "It will accept a list as an argument. It will return `True` if the first and last elements are equal and the if the list has a length greater than 1. It will return False for all other cases."
   ]
  },
  {
   "cell_type": "code",
   "execution_count": 53,
   "metadata": {},
   "outputs": [],
   "source": [
    "# write your function here\n",
    "def first_equals_last(listname):\n",
    "    if len(listname) > 1 and listname[0] == listname[-1]:\n",
    "        return True\n",
    "    else:\n",
    "        return False"
   ]
  },
  {
   "cell_type": "code",
   "execution_count": 54,
   "metadata": {},
   "outputs": [
    {
     "data": {
      "text/plain": [
       "False"
      ]
     },
     "execution_count": 54,
     "metadata": {},
     "output_type": "execute_result"
    }
   ],
   "source": [
    "# do not modify. We will check this result for grading\n",
    "a = [1,2,3]\n",
    "first_equals_last(a)"
   ]
  },
  {
   "cell_type": "code",
   "execution_count": 47,
   "metadata": {},
   "outputs": [
    {
     "data": {
      "text/plain": [
       "True"
      ]
     },
     "execution_count": 47,
     "metadata": {},
     "output_type": "execute_result"
    }
   ],
   "source": [
    "# do not modify. We will check this result for grading\n",
    "b = ['hello','goodbye','hello']\n",
    "first_equals_last(b)"
   ]
  },
  {
   "cell_type": "code",
   "execution_count": 48,
   "metadata": {},
   "outputs": [
    {
     "data": {
      "text/plain": [
       "False"
      ]
     },
     "execution_count": 48,
     "metadata": {},
     "output_type": "execute_result"
    }
   ],
   "source": [
    "# do not modify. We will check this result for grading\n",
    "c  = [1,2,3,'1']\n",
    "first_equals_last(c)"
   ]
  },
  {
   "cell_type": "code",
   "execution_count": 49,
   "metadata": {},
   "outputs": [
    {
     "data": {
      "text/plain": [
       "True"
      ]
     },
     "execution_count": 49,
     "metadata": {},
     "output_type": "execute_result"
    }
   ],
   "source": [
    "# do not modify. We will check this result for grading\n",
    "d = [[1,2],[3,2],[1,2]]\n",
    "first_equals_last(d)"
   ]
  }
 ],
 "metadata": {
  "kernelspec": {
   "display_name": "3.12.6",
   "language": "python",
   "name": "python3"
  },
  "language_info": {
   "codemirror_mode": {
    "name": "ipython",
    "version": 3
   },
   "file_extension": ".py",
   "mimetype": "text/x-python",
   "name": "python",
   "nbconvert_exporter": "python",
   "pygments_lexer": "ipython3",
   "version": "3.12.6"
  }
 },
 "nbformat": 4,
 "nbformat_minor": 4
}
